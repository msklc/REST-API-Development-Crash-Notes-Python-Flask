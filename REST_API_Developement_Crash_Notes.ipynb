{
 "cells": [
  {
   "cell_type": "markdown",
   "id": "7212409a",
   "metadata": {},
   "source": [
    "# REST API Development  Crash Notes (Python-Flask)"
   ]
  },
  {
   "cell_type": "markdown",
   "id": "9dd71d32",
   "metadata": {},
   "source": [
    "### =======Syllabus=======\n",
    "__1. Introduction to API__\n",
    "\n",
    "__2. REST API__\n",
    "\n",
    "    2.1 Sample Public APIs (GET)\n",
    "    2.2. Status Codes\n",
    "    2.3 API Requests\n",
    "\n",
    "__3. POSTMAN__\n",
    "\n",
    "__4. FLASK__\n",
    "    \n",
    "    4.1 Hello World!\n",
    "    4.2 Endpoints\n",
    "    4.3. Dynamic Endpoints\n",
    "    4.4. HTTP POST Methods\n",
    "\n",
    "__5.  RUNNING ON SERVER__\n",
    "    \n",
    "__6. Some Other Usefull Information__\n",
    "    \n",
    "__7. CAPSTONE__\n",
    "\n"
   ]
  },
  {
   "cell_type": "markdown",
   "id": "64061e93",
   "metadata": {},
   "source": [
    "### 1. Introduction to API"
   ]
  },
  {
   "cell_type": "markdown",
   "id": "7e4ad8ee",
   "metadata": {},
   "source": [
    "An API, short for <b>Application Programming Interface</b>, is a set of rules and protocols that allows different software applications to communicate and interact with each other. <br><br>\n",
    "\n",
    "<li>It defines the methods and data formats that applications can use to request and exchange information.</li> \n",
    "<li>An API acts as a bridge between different software systems, enabling them to share data and functionality in a standardized and controlled manner.</li>\n",
    "<li>A developer extensively uses APIs in his software to implement various features by using an API call without writing complex codes for the same. </li>\n"
   ]
  },
  {
   "cell_type": "markdown",
   "id": "023ff023",
   "metadata": {},
   "source": [
    "<img src=\"https://github.com/msklc/crash_api_notes/blob/4fa528d979a51cacc7e8d47e043bbf095cff024b/images/What-is-an-API.png?raw=true\">\n",
    "<b>Source:</b>https://www.geeksforgeeks.org/what-is-an-api/"
   ]
  },
  {
   "cell_type": "markdown",
   "id": "efc915c3",
   "metadata": {},
   "source": [
    "#### Types of APIs<br>\n",
    "<li>RESTful APIs</li>\n",
    "<li>SOAP APIs</li>\n",
    "<li>GraphQL APIs</li>\n",
    "<li>Library APIs</li>\n",
    "<li>Operating system APIs</li>\n",
    "<li>...</li>"
   ]
  },
  {
   "cell_type": "markdown",
   "id": "1fc854dc",
   "metadata": {},
   "source": [
    "### 2. REST API"
   ]
  },
  {
   "cell_type": "markdown",
   "id": "4bb58425",
   "metadata": {},
   "source": [
    "REST API services let you interact with the database (or different software systems) by simply doing HTTP requests.\n",
    "This is often how the backend of web apps is created. <b>Returning data is in JSON format</b> and requests we are using are PUT, DELETE, POST, and GET."
   ]
  },
  {
   "cell_type": "markdown",
   "id": "670df209",
   "metadata": {},
   "source": [
    "__2.1 Sample Public APIs (GET)__"
   ]
  },
  {
   "cell_type": "code",
   "execution_count": 52,
   "id": "c17805e0",
   "metadata": {},
   "outputs": [
    {
     "data": {
      "text/plain": [
       "'{\"ip\":\"92.70.140.39\"}'"
      ]
     },
     "execution_count": 52,
     "metadata": {},
     "output_type": "execute_result"
    }
   ],
   "source": [
    "import requests\n",
    "url='https://api.ipify.org/?format=json'\n",
    "r = requests.get(url)\n",
    "r.text "
   ]
  },
  {
   "cell_type": "code",
   "execution_count": 60,
   "id": "fe11aa53",
   "metadata": {},
   "outputs": [
    {
     "data": {
      "text/plain": [
       "{'status': 'success',\n",
       " 'data': [{'id': 1,\n",
       "   'employee_name': 'Tiger Nixon',\n",
       "   'employee_salary': 320800,\n",
       "   'employee_age': 61,\n",
       "   'profile_image': ''},\n",
       "  {'id': 2,\n",
       "   'employee_name': 'Garrett Winters',\n",
       "   'employee_salary': 170750,\n",
       "   'employee_age': 63,\n",
       "   'profile_image': ''},\n",
       "  {'id': 3,\n",
       "   'employee_name': 'Ashton Cox',\n",
       "   'employee_salary': 86000,\n",
       "   'employee_age': 66,\n",
       "   'profile_image': ''},\n",
       "  {'id': 4,\n",
       "   'employee_name': 'Cedric Kelly',\n",
       "   'employee_salary': 433060,\n",
       "   'employee_age': 22,\n",
       "   'profile_image': ''},\n",
       "  {'id': 5,\n",
       "   'employee_name': 'Airi Satou',\n",
       "   'employee_salary': 162700,\n",
       "   'employee_age': 33,\n",
       "   'profile_image': ''},\n",
       "  {'id': 6,\n",
       "   'employee_name': 'Brielle Williamson',\n",
       "   'employee_salary': 372000,\n",
       "   'employee_age': 61,\n",
       "   'profile_image': ''},\n",
       "  {'id': 7,\n",
       "   'employee_name': 'Herrod Chandler',\n",
       "   'employee_salary': 137500,\n",
       "   'employee_age': 59,\n",
       "   'profile_image': ''},\n",
       "  {'id': 8,\n",
       "   'employee_name': 'Rhona Davidson',\n",
       "   'employee_salary': 327900,\n",
       "   'employee_age': 55,\n",
       "   'profile_image': ''},\n",
       "  {'id': 9,\n",
       "   'employee_name': 'Colleen Hurst',\n",
       "   'employee_salary': 205500,\n",
       "   'employee_age': 39,\n",
       "   'profile_image': ''},\n",
       "  {'id': 10,\n",
       "   'employee_name': 'Sonya Frost',\n",
       "   'employee_salary': 103600,\n",
       "   'employee_age': 23,\n",
       "   'profile_image': ''},\n",
       "  {'id': 11,\n",
       "   'employee_name': 'Jena Gaines',\n",
       "   'employee_salary': 90560,\n",
       "   'employee_age': 30,\n",
       "   'profile_image': ''},\n",
       "  {'id': 12,\n",
       "   'employee_name': 'Quinn Flynn',\n",
       "   'employee_salary': 342000,\n",
       "   'employee_age': 22,\n",
       "   'profile_image': ''},\n",
       "  {'id': 13,\n",
       "   'employee_name': 'Charde Marshall',\n",
       "   'employee_salary': 470600,\n",
       "   'employee_age': 36,\n",
       "   'profile_image': ''},\n",
       "  {'id': 14,\n",
       "   'employee_name': 'Haley Kennedy',\n",
       "   'employee_salary': 313500,\n",
       "   'employee_age': 43,\n",
       "   'profile_image': ''},\n",
       "  {'id': 15,\n",
       "   'employee_name': 'Tatyana Fitzpatrick',\n",
       "   'employee_salary': 385750,\n",
       "   'employee_age': 19,\n",
       "   'profile_image': ''},\n",
       "  {'id': 16,\n",
       "   'employee_name': 'Michael Silva',\n",
       "   'employee_salary': 198500,\n",
       "   'employee_age': 66,\n",
       "   'profile_image': ''},\n",
       "  {'id': 17,\n",
       "   'employee_name': 'Paul Byrd',\n",
       "   'employee_salary': 725000,\n",
       "   'employee_age': 64,\n",
       "   'profile_image': ''},\n",
       "  {'id': 18,\n",
       "   'employee_name': 'Gloria Little',\n",
       "   'employee_salary': 237500,\n",
       "   'employee_age': 59,\n",
       "   'profile_image': ''},\n",
       "  {'id': 19,\n",
       "   'employee_name': 'Bradley Greer',\n",
       "   'employee_salary': 132000,\n",
       "   'employee_age': 41,\n",
       "   'profile_image': ''},\n",
       "  {'id': 20,\n",
       "   'employee_name': 'Dai Rios',\n",
       "   'employee_salary': 217500,\n",
       "   'employee_age': 35,\n",
       "   'profile_image': ''},\n",
       "  {'id': 21,\n",
       "   'employee_name': 'Jenette Caldwell',\n",
       "   'employee_salary': 345000,\n",
       "   'employee_age': 30,\n",
       "   'profile_image': ''},\n",
       "  {'id': 22,\n",
       "   'employee_name': 'Yuri Berry',\n",
       "   'employee_salary': 675000,\n",
       "   'employee_age': 40,\n",
       "   'profile_image': ''},\n",
       "  {'id': 23,\n",
       "   'employee_name': 'Caesar Vance',\n",
       "   'employee_salary': 106450,\n",
       "   'employee_age': 21,\n",
       "   'profile_image': ''},\n",
       "  {'id': 24,\n",
       "   'employee_name': 'Doris Wilder',\n",
       "   'employee_salary': 85600,\n",
       "   'employee_age': 23,\n",
       "   'profile_image': ''}],\n",
       " 'message': 'Successfully! All records has been fetched.'}"
      ]
     },
     "execution_count": 60,
     "metadata": {},
     "output_type": "execute_result"
    }
   ],
   "source": [
    "import requests\n",
    "url = 'https://dummy.restapiexample.com/api/v1/employees'\n",
    "headers = {'User-Agent': 'Mozilla/5.0 (Windows NT 10.0; rv:91.0) Gecko/20100101 Firefox/91.0',\n",
    "'Content-type': 'application/json'}\n",
    "\n",
    "r = requests.get(url, headers = headers)\n",
    "r.json()"
   ]
  },
  {
   "cell_type": "markdown",
   "id": "a436a095",
   "metadata": {},
   "source": [
    "__2.2. Status Codes__\n",
    "- 200 : OK (Successfuly Connection)\n",
    "- 3xx : Redirection\n",
    "- 400 : Bad Request\n",
    "- 401 : Unauthorized\n",
    "- 403 : Forbidden\n",
    "- 404 : Not Found\n",
    "- 5xx Server Error\n",
    "    - 500 : Internal Server Error\n",
    "    - 501 : Not Implemented\n",
    "    - 502 : Bad Gateway\n",
    "    - 503 : Service Unavailable\n",
    "    - 504 : Gateway Timeout"
   ]
  },
  {
   "cell_type": "markdown",
   "id": "c2f485c7",
   "metadata": {},
   "source": [
    "__Example__"
   ]
  },
  {
   "cell_type": "code",
   "execution_count": 61,
   "id": "3c0d027e",
   "metadata": {},
   "outputs": [
    {
     "data": {
      "text/plain": [
       "200"
      ]
     },
     "execution_count": 61,
     "metadata": {},
     "output_type": "execute_result"
    }
   ],
   "source": [
    "import requests\n",
    "url='http://www.google.com'\n",
    "r=requests.get(url)\n",
    "r.status_code"
   ]
  },
  {
   "cell_type": "markdown",
   "id": "6992fa20",
   "metadata": {},
   "source": [
    "__More Example__"
   ]
  },
  {
   "cell_type": "code",
   "execution_count": 62,
   "id": "a7a3b1a7",
   "metadata": {},
   "outputs": [
    {
     "name": "stdout",
     "output_type": "stream",
     "text": [
      "http://www.mysoly.nl : 200\n",
      "http://worldagnetwork.com : 403\n",
      "http://www.mysoly.nl/notfound.php : 404\n"
     ]
    }
   ],
   "source": [
    "import requests\n",
    "url_list=['http://www.mysoly.nl', 'http://worldagnetwork.com', 'http://www.mysoly.nl/notfound.php']\n",
    "for url in url_list:\n",
    "    r=requests.get(url)\n",
    "    print('{} : {}'.format(url,r.status_code))"
   ]
  },
  {
   "cell_type": "markdown",
   "id": "77bad1e7",
   "metadata": {},
   "source": [
    "__2.3 API Requests__"
   ]
  },
  {
   "cell_type": "markdown",
   "id": "14d40e79",
   "metadata": {},
   "source": [
    "An API request is a communication made by a client application to an API in order to retrieve or manipulate data or access a particular functionality provided by the API."
   ]
  },
  {
   "cell_type": "markdown",
   "id": "bb3b33d1",
   "metadata": {},
   "source": [
    "- <b>Request URL</b> – The URL is the link that the API communicates with.\n",
    "\n",
    "- <b>Request Headers</b> – The headers contain the key-value pairs sent with the request to the application. It describes the format of the object data for the request and response. It also includes an authorization token to identify the requester by getting new access token.\n",
    "\n",
    "- <b>Request Body</b> – The body is the place to customize details in a request."
   ]
  },
  {
   "cell_type": "markdown",
   "id": "1068f196",
   "metadata": {},
   "source": [
    "### 3. POSTMAN"
   ]
  },
  {
   "cell_type": "markdown",
   "id": "e7390e99",
   "metadata": {},
   "source": [
    "Postman is one of the most popular software testing tools which is used for API testing. With the help of this tool, developers can easily create, test, share, and document APIs."
   ]
  },
  {
   "cell_type": "markdown",
   "id": "891872de",
   "metadata": {},
   "source": [
    "<img src=\"https://github.com/msklc/crash_api_notes/blob/80755692d0e7382338a3967df27d23575a1f9c8e/images/postman_api_get.png?raw=true\">"
   ]
  },
  {
   "cell_type": "markdown",
   "id": "645b6d8d",
   "metadata": {},
   "source": [
    "### 4. FLASK"
   ]
  },
  {
   "cell_type": "markdown",
   "id": "d2fe657a",
   "metadata": {},
   "source": [
    "Flask is a lightweight and flexible web framework written in Python. It is designed to make it easy to build web applications, including APIs, quickly and with minimal boilerplate code. Flask provides the necessary tools and libraries to handle HTTP requests and responses, routing, session management, and template rendering."
   ]
  },
  {
   "cell_type": "markdown",
   "id": "96da3beb",
   "metadata": {},
   "source": [
    "__4.1 Hello World!__"
   ]
  },
  {
   "cell_type": "code",
   "execution_count": 66,
   "id": "912cad2e",
   "metadata": {},
   "outputs": [
    {
     "name": "stdout",
     "output_type": "stream",
     "text": [
      " * Serving Flask app \"__main__\" (lazy loading)\n",
      " * Environment: production\n",
      "\u001b[31m   WARNING: This is a development server. Do not use it in a production deployment.\u001b[0m\n",
      "\u001b[2m   Use a production WSGI server instead.\u001b[0m\n",
      " * Debug mode: off\n"
     ]
    },
    {
     "name": "stderr",
     "output_type": "stream",
     "text": [
      " * Running on http://127.0.0.1:5000/ (Press CTRL+C to quit)\n",
      "127.0.0.1 - - [22/Jun/2023 15:15:33] \"GET / HTTP/1.1\" 200 -\n",
      "127.0.0.1 - - [22/Jun/2023 15:15:49] \"GET /ankara HTTP/1.1\" 404 -\n",
      "127.0.0.1 - - [22/Jun/2023 15:16:15] \"GET / HTTP/1.1\" 200 -\n",
      "127.0.0.1 - - [22/Jun/2023 15:23:06] \"GET / HTTP/1.1\" 200 -\n",
      "127.0.0.1 - - [22/Jun/2023 15:23:07] \"GET / HTTP/1.1\" 200 -\n",
      "127.0.0.1 - - [22/Jun/2023 15:23:08] \"GET / HTTP/1.1\" 200 -\n"
     ]
    }
   ],
   "source": [
    "from flask import Flask\n",
    "\n",
    "app = Flask(__name__)\n",
    "\n",
    "@app.route(\"/\")\n",
    "def hello_world():\n",
    "    return \"Hello, World!\"\n",
    "\n",
    "app.run()"
   ]
  },
  {
   "cell_type": "markdown",
   "id": "2c72dcbe",
   "metadata": {},
   "source": [
    "__4.2 Endpoints__"
   ]
  },
  {
   "cell_type": "code",
   "execution_count": 67,
   "id": "11fa0ca7",
   "metadata": {},
   "outputs": [
    {
     "name": "stdout",
     "output_type": "stream",
     "text": [
      " * Serving Flask app \"__main__\" (lazy loading)\n",
      " * Environment: production\n",
      "\u001b[31m   WARNING: This is a development server. Do not use it in a production deployment.\u001b[0m\n",
      "\u001b[2m   Use a production WSGI server instead.\u001b[0m\n",
      " * Debug mode: off\n"
     ]
    },
    {
     "name": "stderr",
     "output_type": "stream",
     "text": [
      " * Running on http://127.0.0.1:5000/ (Press CTRL+C to quit)\n",
      "127.0.0.1 - - [22/Jun/2023 15:24:14] \"GET / HTTP/1.1\" 200 -\n",
      "127.0.0.1 - - [22/Jun/2023 15:24:32] \"GET /ankara HTTP/1.1\" 404 -\n",
      "127.0.0.1 - - [22/Jun/2023 15:24:40] \"GET /contact HTTP/1.1\" 200 -\n"
     ]
    }
   ],
   "source": [
    "import json\n",
    "from flask import Flask\n",
    "\n",
    "app = Flask(__name__)\n",
    "\n",
    "@app.route('/')\n",
    "def hello_world():\n",
    "    return \"<p>Hello, World!</p>\"\n",
    "\n",
    "@app.route('/contact')\n",
    "def contact():\n",
    "    \n",
    "    \n",
    "    return json.dumps({'name': 'Serkan Kilic',\n",
    "                       'email': 'skilic@mysoly.nl'})\n",
    "\n",
    "app.run()"
   ]
  },
  {
   "cell_type": "markdown",
   "id": "40a960f7",
   "metadata": {},
   "source": [
    "__4.3. Dynamic Endpoints__"
   ]
  },
  {
   "cell_type": "code",
   "execution_count": 71,
   "id": "3403289a",
   "metadata": {},
   "outputs": [
    {
     "name": "stdout",
     "output_type": "stream",
     "text": [
      " * Serving Flask app \"__main__\" (lazy loading)\n",
      " * Environment: production\n",
      "\u001b[31m   WARNING: This is a development server. Do not use it in a production deployment.\u001b[0m\n",
      "\u001b[2m   Use a production WSGI server instead.\u001b[0m\n",
      " * Debug mode: off\n"
     ]
    },
    {
     "name": "stderr",
     "output_type": "stream",
     "text": [
      " * Running on http://127.0.0.1:5000/ (Press CTRL+C to quit)\n",
      "127.0.0.1 - - [22/Jun/2023 15:29:51] \"GET /profile/serkan HTTP/1.1\" 200 -\n"
     ]
    }
   ],
   "source": [
    "import json\n",
    "from flask import Flask\n",
    "\n",
    "app = Flask(__name__)\n",
    "\n",
    "@app.route('/')\n",
    "def hello_world():\n",
    "    return \"<p>Hello, World!</p>\"\n",
    "\n",
    "@app.route('/contact')\n",
    "def contact():\n",
    "    return json.dumps({'name': 'Serkan Kilic',\n",
    "                       'email': 'skilic@mysoly.nl'})\n",
    "\n",
    "@app.route('/profile')\n",
    "def profile_test():\n",
    "    return f'Welcome to My Profile'\n",
    "\n",
    "@app.route('/profile/<username>')\n",
    "def profile(username):\n",
    "    return f'Welcome to {username}\\'s Profile'\n",
    "\n",
    "app.run()"
   ]
  },
  {
   "cell_type": "markdown",
   "id": "a23bf0e1",
   "metadata": {},
   "source": [
    "__4.4. HTTP POST Methods__"
   ]
  },
  {
   "cell_type": "markdown",
   "id": "c06b19ac",
   "metadata": {},
   "source": [
    "By default, a route only answers to GET requests. You can use the methods argument of the route() decorator to handle different HTTP methods like POST, DELETE."
   ]
  },
  {
   "cell_type": "markdown",
   "id": "6390fa03",
   "metadata": {},
   "source": [
    "__From Body__"
   ]
  },
  {
   "cell_type": "code",
   "execution_count": 75,
   "id": "11e65746",
   "metadata": {},
   "outputs": [
    {
     "name": "stdout",
     "output_type": "stream",
     "text": [
      " * Serving Flask app \"__main__\" (lazy loading)\n",
      " * Environment: production\n",
      "\u001b[31m   WARNING: This is a development server. Do not use it in a production deployment.\u001b[0m\n",
      "\u001b[2m   Use a production WSGI server instead.\u001b[0m\n",
      " * Debug mode: off\n"
     ]
    },
    {
     "name": "stderr",
     "output_type": "stream",
     "text": [
      " * Running on http://127.0.0.1:5000/ (Press CTRL+C to quit)\n",
      "127.0.0.1 - - [22/Jun/2023 15:41:49] \"GET /ip2location HTTP/1.1\" 200 -\n",
      "127.0.0.1 - - [22/Jun/2023 15:44:12] \"GET /ip2location HTTP/1.1\" 200 -\n"
     ]
    }
   ],
   "source": [
    "import json\n",
    "import requests\n",
    "from flask import Flask,request\n",
    "\n",
    "app = Flask(__name__)\n",
    "\n",
    "@app.route('/')\n",
    "def hello_world():\n",
    "    return \"<p>Hello, World!</p>\"\n",
    "\n",
    "@app.route('/contact')\n",
    "def contact():\n",
    "    return json.dumps({'name': 'Serkan Kilic',\n",
    "                       'email': 'skilic@mysoly.nl'})\n",
    "\n",
    "@app.route('/profile/<username>')\n",
    "def profile(username):\n",
    "    return f'Welcome to {username}\\'s Profile'\n",
    "\n",
    "@app.route('/ip2location', method='POST')\n",
    "def ip2location():\n",
    "    data = request.get_json()\n",
    "    ip = data.get('ip_address')\n",
    "    \n",
    "    url=\"https://api.country.is/{}\".format(ip)\n",
    "    r = requests.get(url)\n",
    "    res=r.json()\n",
    "    res['source']='From another API'\n",
    "    return res\n",
    "\n",
    "app.run()"
   ]
  },
  {
   "cell_type": "markdown",
   "id": "62efccf4",
   "metadata": {},
   "source": [
    "__From Parameter__"
   ]
  },
  {
   "cell_type": "code",
   "execution_count": 79,
   "id": "969cbef0",
   "metadata": {},
   "outputs": [
    {
     "name": "stdout",
     "output_type": "stream",
     "text": [
      " * Serving Flask app \"__main__\" (lazy loading)\n",
      " * Environment: production\n",
      "\u001b[31m   WARNING: This is a development server. Do not use it in a production deployment.\u001b[0m\n",
      "\u001b[2m   Use a production WSGI server instead.\u001b[0m\n",
      " * Debug mode: off\n"
     ]
    },
    {
     "name": "stderr",
     "output_type": "stream",
     "text": [
      " * Running on http://127.0.0.1:5000/ (Press CTRL+C to quit)\n",
      "127.0.0.1 - - [22/Jun/2023 15:51:44] \"POST /search?sku=999&color=red HTTP/1.1\" 200 -\n"
     ]
    }
   ],
   "source": [
    "import json\n",
    "import requests\n",
    "from flask import Flask,request\n",
    "\n",
    "app = Flask(__name__)\n",
    "\n",
    "@app.route('/')\n",
    "def hello_world():\n",
    "    return \"<p>Hello, World!</p>\"\n",
    "\n",
    "@app.route('/contact')\n",
    "def contact():\n",
    "    return json.dumps({'name': 'Serkan Kilic',\n",
    "                       'email': 'skilic@mysoly.nl'})\n",
    "\n",
    "@app.route('/profile/<username>')\n",
    "def profile(username):\n",
    "    return f'Welcome to {username}\\'s Profile'\n",
    "\n",
    "@app.route('/ip2location', methods=['POST'])\n",
    "def ip2location():\n",
    "    data = request.get_json()\n",
    "    ip = data.get('ip_address')\n",
    "    url=\"https://api.country.is/{}\".format(ip)\n",
    "    r = requests.get(url)\n",
    "    return r.json() \n",
    "\n",
    "@app.route('/search', methods=['POST'])\n",
    "def search():\n",
    "    sku = request.args.get('sku')\n",
    "    color = request.args.get('color')\n",
    "    return \"The product with sku: {} with {} could not found!!!\".format(sku, color)\n",
    "\n",
    "app.run()"
   ]
  },
  {
   "cell_type": "markdown",
   "id": "1516d273",
   "metadata": {},
   "source": [
    "### 5. RUNNING ON SERVER"
   ]
  }
 ],
 "metadata": {
  "kernelspec": {
   "display_name": "Python 3 (ipykernel)",
   "language": "python",
   "name": "python3"
  },
  "language_info": {
   "codemirror_mode": {
    "name": "ipython",
    "version": 3
   },
   "file_extension": ".py",
   "mimetype": "text/x-python",
   "name": "python",
   "nbconvert_exporter": "python",
   "pygments_lexer": "ipython3",
   "version": "3.9.12"
  }
 },
 "nbformat": 4,
 "nbformat_minor": 5
}
